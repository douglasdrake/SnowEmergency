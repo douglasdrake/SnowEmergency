{
 "cells": [
  {
   "cell_type": "code",
   "execution_count": 1,
   "metadata": {},
   "outputs": [
    {
     "ename": "ModuleNotFoundError",
     "evalue": "No module named 'geoplot'",
     "output_type": "error",
     "traceback": [
      "\u001b[1;31m---------------------------------------------------------------------------\u001b[0m",
      "\u001b[1;31mModuleNotFoundError\u001b[0m                       Traceback (most recent call last)",
      "\u001b[1;32m<ipython-input-1-a7524585c6b6>\u001b[0m in \u001b[0;36m<module>\u001b[1;34m\u001b[0m\n\u001b[0;32m      2\u001b[0m \u001b[1;32mimport\u001b[0m \u001b[0mnumpy\u001b[0m \u001b[1;32mas\u001b[0m \u001b[0mnp\u001b[0m\u001b[1;33m\u001b[0m\u001b[1;33m\u001b[0m\u001b[0m\n\u001b[0;32m      3\u001b[0m \u001b[1;32mimport\u001b[0m \u001b[0mgeopandas\u001b[0m \u001b[1;32mas\u001b[0m \u001b[0mgpd\u001b[0m\u001b[1;33m\u001b[0m\u001b[1;33m\u001b[0m\u001b[0m\n\u001b[1;32m----> 4\u001b[1;33m \u001b[1;32mimport\u001b[0m \u001b[0mgeoplot\u001b[0m \u001b[1;32mas\u001b[0m \u001b[0mgplt\u001b[0m\u001b[1;33m\u001b[0m\u001b[1;33m\u001b[0m\u001b[0m\n\u001b[0m",
      "\u001b[1;31mModuleNotFoundError\u001b[0m: No module named 'geoplot'"
     ]
    }
   ],
   "source": [
    "import pandas as pd\n",
    "import numpy as np\n",
    "import geopandas as gpd\n",
    "import geoplot as gplt"
   ]
  },
  {
   "cell_type": "code",
   "execution_count": 7,
   "metadata": {},
   "outputs": [],
   "source": [
    "def make_polygon_coords (xcenter, ycenter, xdelta, ydelta):\n",
    "    return [\n",
    "        [xcenter - xdelta, ycenter - ydelta],\n",
    "        [xcenter + xdelta, ycenter - ydelta],\n",
    "        [xcenter + xdelta, ycenter + ydelta],\n",
    "        [xcenter - xdelta, ycenter + ydelta],\n",
    "        [xcenter - xdelta, ycenter - ydelta]\n",
    "    ]\n"
   ]
  },
  {
   "cell_type": "code",
   "execution_count": 8,
   "metadata": {},
   "outputs": [
    {
     "data": {
      "text/plain": [
       "[[0.0, 0.0], [1.0, 0.0], [1.0, 1.0], [0.0, 1.0], [0.0, 0.0]]"
      ]
     },
     "execution_count": 8,
     "metadata": {},
     "output_type": "execute_result"
    }
   ],
   "source": [
    "make_polygon_coords(.5, .5, .5, .5)"
   ]
  },
  {
   "cell_type": "code",
   "execution_count": 44,
   "metadata": {},
   "outputs": [],
   "source": [
    "def make_geoJson_from_bins (bin_counts, xedges, yedges):\n",
    "    \n",
    "    def make_polygon_coords (xcenter, ycenter, xdelta, ydelta):\n",
    "        return [[\n",
    "            [xcenter - xdelta, ycenter - ydelta],\n",
    "            [xcenter + xdelta, ycenter - ydelta],\n",
    "            [xcenter + xdelta, ycenter + ydelta],\n",
    "            [xcenter - xdelta, ycenter + ydelta],\n",
    "            [xcenter - xdelta, ycenter - ydelta]\n",
    "        ]]\n",
    "    \"\"\"\n",
    "    Using the output from numpy.histogram2d, create a geoJSON with geometry features of Polygons\n",
    "    and properties features of the bin_counts.  This is used to create a gridded choropleth with \n",
    "    finer detail.\n",
    "    \"\"\"\n",
    "    m = len(bin_counts)\n",
    "    n = len(bin_counts[0])\n",
    "    xcenter = (xedges[:-1] + xedges[1:]) / 2\n",
    "    ycenter = (yedges[:-1] + yedges[1:]) / 2\n",
    "    x_delta = xcenter[0] - xedges[0]\n",
    "    y_delta = ycenter[0] - yedges[0]\n",
    "    \n",
    "    features = []\n",
    "    for j in range(n):\n",
    "        for i in range(m):\n",
    "            poly = make_polygon_coords(xcenter[i], ycenter[j], x_delta, y_delta)\n",
    "            bincount = bin_counts[j, i]\n",
    "            \n",
    "            feature = {\"type\": \"Feature\",\n",
    "                      \"properties\": {\n",
    "                          \"count\": bincount\n",
    "                      },\n",
    "                      \"geometry\": {\n",
    "                          \"type\": \"Polygon\",\n",
    "                          \"coordinates\": poly\n",
    "                      }}\n",
    "            features.append(feature)\n",
    "            \n",
    "            print(feature)\n",
    "    feature_collection = {\n",
    "        \"type\": \"FeatureCollection\",\n",
    "        \"features\": features\n",
    "    }\n",
    "    return feature_collection\n"
   ]
  },
  {
   "cell_type": "code",
   "execution_count": 50,
   "metadata": {},
   "outputs": [],
   "source": [
    "def make_geoJson_bincounts_from_coords(lon, lat, bins):\n",
    "    \"\"\"\n",
    "    bins can be any form that np.histogram2d accepts as a bins argument.\n",
    "    \"\"\"\n",
    "    H, xedges, yedges = np.histogram2d(lon, lat, bins=bins)\n",
    "    H = H.T\n",
    "    return make_geoJson_from_bins(H, xedges, yedges)\n"
   ]
  },
  {
   "cell_type": "code",
   "execution_count": 13,
   "metadata": {},
   "outputs": [
    {
     "name": "stdout",
     "output_type": "stream",
     "text": [
      "(0, 0)\n",
      "(1, 4)\n",
      "(4, 2)\n",
      "(4, 3)\n",
      "(4, 3)\n",
      "(1, 0)\n",
      "(1, 1)\n",
      "(2, 2)\n",
      "(0, 3)\n",
      "(0, 3)\n"
     ]
    }
   ],
   "source": [
    "x = np.random.randint(low = 0, high = 5, size=10)\n",
    "y = np.random.randint(low = 0, high = 5, size=10)\n",
    "\n",
    "for pair in zip(x,y):\n",
    "    print(pair)"
   ]
  },
  {
   "cell_type": "code",
   "execution_count": 38,
   "metadata": {},
   "outputs": [],
   "source": [
    "H, xedges, yedges = np.histogram2d(x, y, [4, 4])"
   ]
  },
  {
   "cell_type": "code",
   "execution_count": 39,
   "metadata": {},
   "outputs": [],
   "source": [
    "H = H.T"
   ]
  },
  {
   "cell_type": "code",
   "execution_count": 40,
   "metadata": {},
   "outputs": [
    {
     "name": "stdout",
     "output_type": "stream",
     "text": [
      "[[1. 1. 0. 0.]\n",
      " [0. 1. 0. 0.]\n",
      " [0. 0. 1. 1.]\n",
      " [2. 1. 0. 2.]] [0. 1. 2. 3. 4.] [0. 1. 2. 3. 4.]\n"
     ]
    }
   ],
   "source": [
    "print(H, xedges, yedges)"
   ]
  },
  {
   "cell_type": "code",
   "execution_count": 45,
   "metadata": {},
   "outputs": [
    {
     "name": "stdout",
     "output_type": "stream",
     "text": [
      "{'type': 'Feature', 'properties': {'count': 1.0}, 'geometry': {'type': 'Polygon', 'coordinates': [[[0.0, 0.0], [1.0, 0.0], [1.0, 1.0], [0.0, 1.0], [0.0, 0.0]]]}}\n",
      "{'type': 'Feature', 'properties': {'count': 1.0}, 'geometry': {'type': 'Polygon', 'coordinates': [[[1.0, 0.0], [2.0, 0.0], [2.0, 1.0], [1.0, 1.0], [1.0, 0.0]]]}}\n",
      "{'type': 'Feature', 'properties': {'count': 0.0}, 'geometry': {'type': 'Polygon', 'coordinates': [[[2.0, 0.0], [3.0, 0.0], [3.0, 1.0], [2.0, 1.0], [2.0, 0.0]]]}}\n",
      "{'type': 'Feature', 'properties': {'count': 0.0}, 'geometry': {'type': 'Polygon', 'coordinates': [[[3.0, 0.0], [4.0, 0.0], [4.0, 1.0], [3.0, 1.0], [3.0, 0.0]]]}}\n",
      "{'type': 'Feature', 'properties': {'count': 0.0}, 'geometry': {'type': 'Polygon', 'coordinates': [[[0.0, 1.0], [1.0, 1.0], [1.0, 2.0], [0.0, 2.0], [0.0, 1.0]]]}}\n",
      "{'type': 'Feature', 'properties': {'count': 1.0}, 'geometry': {'type': 'Polygon', 'coordinates': [[[1.0, 1.0], [2.0, 1.0], [2.0, 2.0], [1.0, 2.0], [1.0, 1.0]]]}}\n",
      "{'type': 'Feature', 'properties': {'count': 0.0}, 'geometry': {'type': 'Polygon', 'coordinates': [[[2.0, 1.0], [3.0, 1.0], [3.0, 2.0], [2.0, 2.0], [2.0, 1.0]]]}}\n",
      "{'type': 'Feature', 'properties': {'count': 0.0}, 'geometry': {'type': 'Polygon', 'coordinates': [[[3.0, 1.0], [4.0, 1.0], [4.0, 2.0], [3.0, 2.0], [3.0, 1.0]]]}}\n",
      "{'type': 'Feature', 'properties': {'count': 0.0}, 'geometry': {'type': 'Polygon', 'coordinates': [[[0.0, 2.0], [1.0, 2.0], [1.0, 3.0], [0.0, 3.0], [0.0, 2.0]]]}}\n",
      "{'type': 'Feature', 'properties': {'count': 0.0}, 'geometry': {'type': 'Polygon', 'coordinates': [[[1.0, 2.0], [2.0, 2.0], [2.0, 3.0], [1.0, 3.0], [1.0, 2.0]]]}}\n",
      "{'type': 'Feature', 'properties': {'count': 1.0}, 'geometry': {'type': 'Polygon', 'coordinates': [[[2.0, 2.0], [3.0, 2.0], [3.0, 3.0], [2.0, 3.0], [2.0, 2.0]]]}}\n",
      "{'type': 'Feature', 'properties': {'count': 1.0}, 'geometry': {'type': 'Polygon', 'coordinates': [[[3.0, 2.0], [4.0, 2.0], [4.0, 3.0], [3.0, 3.0], [3.0, 2.0]]]}}\n",
      "{'type': 'Feature', 'properties': {'count': 2.0}, 'geometry': {'type': 'Polygon', 'coordinates': [[[0.0, 3.0], [1.0, 3.0], [1.0, 4.0], [0.0, 4.0], [0.0, 3.0]]]}}\n",
      "{'type': 'Feature', 'properties': {'count': 1.0}, 'geometry': {'type': 'Polygon', 'coordinates': [[[1.0, 3.0], [2.0, 3.0], [2.0, 4.0], [1.0, 4.0], [1.0, 3.0]]]}}\n",
      "{'type': 'Feature', 'properties': {'count': 0.0}, 'geometry': {'type': 'Polygon', 'coordinates': [[[2.0, 3.0], [3.0, 3.0], [3.0, 4.0], [2.0, 4.0], [2.0, 3.0]]]}}\n",
      "{'type': 'Feature', 'properties': {'count': 2.0}, 'geometry': {'type': 'Polygon', 'coordinates': [[[3.0, 3.0], [4.0, 3.0], [4.0, 4.0], [3.0, 4.0], [3.0, 3.0]]]}}\n"
     ]
    },
    {
     "data": {
      "text/plain": [
       "{'type': 'FeatureCollection',\n",
       " 'features': [{'type': 'Feature',\n",
       "   'properties': {'count': 1.0},\n",
       "   'geometry': {'type': 'Polygon',\n",
       "    'coordinates': [[[0.0, 0.0],\n",
       "      [1.0, 0.0],\n",
       "      [1.0, 1.0],\n",
       "      [0.0, 1.0],\n",
       "      [0.0, 0.0]]]}},\n",
       "  {'type': 'Feature',\n",
       "   'properties': {'count': 1.0},\n",
       "   'geometry': {'type': 'Polygon',\n",
       "    'coordinates': [[[1.0, 0.0],\n",
       "      [2.0, 0.0],\n",
       "      [2.0, 1.0],\n",
       "      [1.0, 1.0],\n",
       "      [1.0, 0.0]]]}},\n",
       "  {'type': 'Feature',\n",
       "   'properties': {'count': 0.0},\n",
       "   'geometry': {'type': 'Polygon',\n",
       "    'coordinates': [[[2.0, 0.0],\n",
       "      [3.0, 0.0],\n",
       "      [3.0, 1.0],\n",
       "      [2.0, 1.0],\n",
       "      [2.0, 0.0]]]}},\n",
       "  {'type': 'Feature',\n",
       "   'properties': {'count': 0.0},\n",
       "   'geometry': {'type': 'Polygon',\n",
       "    'coordinates': [[[3.0, 0.0],\n",
       "      [4.0, 0.0],\n",
       "      [4.0, 1.0],\n",
       "      [3.0, 1.0],\n",
       "      [3.0, 0.0]]]}},\n",
       "  {'type': 'Feature',\n",
       "   'properties': {'count': 0.0},\n",
       "   'geometry': {'type': 'Polygon',\n",
       "    'coordinates': [[[0.0, 1.0],\n",
       "      [1.0, 1.0],\n",
       "      [1.0, 2.0],\n",
       "      [0.0, 2.0],\n",
       "      [0.0, 1.0]]]}},\n",
       "  {'type': 'Feature',\n",
       "   'properties': {'count': 1.0},\n",
       "   'geometry': {'type': 'Polygon',\n",
       "    'coordinates': [[[1.0, 1.0],\n",
       "      [2.0, 1.0],\n",
       "      [2.0, 2.0],\n",
       "      [1.0, 2.0],\n",
       "      [1.0, 1.0]]]}},\n",
       "  {'type': 'Feature',\n",
       "   'properties': {'count': 0.0},\n",
       "   'geometry': {'type': 'Polygon',\n",
       "    'coordinates': [[[2.0, 1.0],\n",
       "      [3.0, 1.0],\n",
       "      [3.0, 2.0],\n",
       "      [2.0, 2.0],\n",
       "      [2.0, 1.0]]]}},\n",
       "  {'type': 'Feature',\n",
       "   'properties': {'count': 0.0},\n",
       "   'geometry': {'type': 'Polygon',\n",
       "    'coordinates': [[[3.0, 1.0],\n",
       "      [4.0, 1.0],\n",
       "      [4.0, 2.0],\n",
       "      [3.0, 2.0],\n",
       "      [3.0, 1.0]]]}},\n",
       "  {'type': 'Feature',\n",
       "   'properties': {'count': 0.0},\n",
       "   'geometry': {'type': 'Polygon',\n",
       "    'coordinates': [[[0.0, 2.0],\n",
       "      [1.0, 2.0],\n",
       "      [1.0, 3.0],\n",
       "      [0.0, 3.0],\n",
       "      [0.0, 2.0]]]}},\n",
       "  {'type': 'Feature',\n",
       "   'properties': {'count': 0.0},\n",
       "   'geometry': {'type': 'Polygon',\n",
       "    'coordinates': [[[1.0, 2.0],\n",
       "      [2.0, 2.0],\n",
       "      [2.0, 3.0],\n",
       "      [1.0, 3.0],\n",
       "      [1.0, 2.0]]]}},\n",
       "  {'type': 'Feature',\n",
       "   'properties': {'count': 1.0},\n",
       "   'geometry': {'type': 'Polygon',\n",
       "    'coordinates': [[[2.0, 2.0],\n",
       "      [3.0, 2.0],\n",
       "      [3.0, 3.0],\n",
       "      [2.0, 3.0],\n",
       "      [2.0, 2.0]]]}},\n",
       "  {'type': 'Feature',\n",
       "   'properties': {'count': 1.0},\n",
       "   'geometry': {'type': 'Polygon',\n",
       "    'coordinates': [[[3.0, 2.0],\n",
       "      [4.0, 2.0],\n",
       "      [4.0, 3.0],\n",
       "      [3.0, 3.0],\n",
       "      [3.0, 2.0]]]}},\n",
       "  {'type': 'Feature',\n",
       "   'properties': {'count': 2.0},\n",
       "   'geometry': {'type': 'Polygon',\n",
       "    'coordinates': [[[0.0, 3.0],\n",
       "      [1.0, 3.0],\n",
       "      [1.0, 4.0],\n",
       "      [0.0, 4.0],\n",
       "      [0.0, 3.0]]]}},\n",
       "  {'type': 'Feature',\n",
       "   'properties': {'count': 1.0},\n",
       "   'geometry': {'type': 'Polygon',\n",
       "    'coordinates': [[[1.0, 3.0],\n",
       "      [2.0, 3.0],\n",
       "      [2.0, 4.0],\n",
       "      [1.0, 4.0],\n",
       "      [1.0, 3.0]]]}},\n",
       "  {'type': 'Feature',\n",
       "   'properties': {'count': 0.0},\n",
       "   'geometry': {'type': 'Polygon',\n",
       "    'coordinates': [[[2.0, 3.0],\n",
       "      [3.0, 3.0],\n",
       "      [3.0, 4.0],\n",
       "      [2.0, 4.0],\n",
       "      [2.0, 3.0]]]}},\n",
       "  {'type': 'Feature',\n",
       "   'properties': {'count': 2.0},\n",
       "   'geometry': {'type': 'Polygon',\n",
       "    'coordinates': [[[3.0, 3.0],\n",
       "      [4.0, 3.0],\n",
       "      [4.0, 4.0],\n",
       "      [3.0, 4.0],\n",
       "      [3.0, 3.0]]]}}]}"
      ]
     },
     "execution_count": 45,
     "metadata": {},
     "output_type": "execute_result"
    }
   ],
   "source": [
    "make_geoJson_from_bins(H, xedges, yedges)"
   ]
  },
  {
   "cell_type": "code",
   "execution_count": 51,
   "metadata": {},
   "outputs": [
    {
     "name": "stdout",
     "output_type": "stream",
     "text": [
      "{'type': 'Feature', 'properties': {'count': 1.0}, 'geometry': {'type': 'Polygon', 'coordinates': [[[0.0, 0.0], [1.0, 0.0], [1.0, 1.0], [0.0, 1.0], [0.0, 0.0]]]}}\n",
      "{'type': 'Feature', 'properties': {'count': 1.0}, 'geometry': {'type': 'Polygon', 'coordinates': [[[1.0, 0.0], [2.0, 0.0], [2.0, 1.0], [1.0, 1.0], [1.0, 0.0]]]}}\n",
      "{'type': 'Feature', 'properties': {'count': 0.0}, 'geometry': {'type': 'Polygon', 'coordinates': [[[2.0, 0.0], [3.0, 0.0], [3.0, 1.0], [2.0, 1.0], [2.0, 0.0]]]}}\n",
      "{'type': 'Feature', 'properties': {'count': 0.0}, 'geometry': {'type': 'Polygon', 'coordinates': [[[3.0, 0.0], [4.0, 0.0], [4.0, 1.0], [3.0, 1.0], [3.0, 0.0]]]}}\n",
      "{'type': 'Feature', 'properties': {'count': 0.0}, 'geometry': {'type': 'Polygon', 'coordinates': [[[0.0, 1.0], [1.0, 1.0], [1.0, 2.0], [0.0, 2.0], [0.0, 1.0]]]}}\n",
      "{'type': 'Feature', 'properties': {'count': 1.0}, 'geometry': {'type': 'Polygon', 'coordinates': [[[1.0, 1.0], [2.0, 1.0], [2.0, 2.0], [1.0, 2.0], [1.0, 1.0]]]}}\n",
      "{'type': 'Feature', 'properties': {'count': 0.0}, 'geometry': {'type': 'Polygon', 'coordinates': [[[2.0, 1.0], [3.0, 1.0], [3.0, 2.0], [2.0, 2.0], [2.0, 1.0]]]}}\n",
      "{'type': 'Feature', 'properties': {'count': 0.0}, 'geometry': {'type': 'Polygon', 'coordinates': [[[3.0, 1.0], [4.0, 1.0], [4.0, 2.0], [3.0, 2.0], [3.0, 1.0]]]}}\n",
      "{'type': 'Feature', 'properties': {'count': 0.0}, 'geometry': {'type': 'Polygon', 'coordinates': [[[0.0, 2.0], [1.0, 2.0], [1.0, 3.0], [0.0, 3.0], [0.0, 2.0]]]}}\n",
      "{'type': 'Feature', 'properties': {'count': 0.0}, 'geometry': {'type': 'Polygon', 'coordinates': [[[1.0, 2.0], [2.0, 2.0], [2.0, 3.0], [1.0, 3.0], [1.0, 2.0]]]}}\n",
      "{'type': 'Feature', 'properties': {'count': 1.0}, 'geometry': {'type': 'Polygon', 'coordinates': [[[2.0, 2.0], [3.0, 2.0], [3.0, 3.0], [2.0, 3.0], [2.0, 2.0]]]}}\n",
      "{'type': 'Feature', 'properties': {'count': 1.0}, 'geometry': {'type': 'Polygon', 'coordinates': [[[3.0, 2.0], [4.0, 2.0], [4.0, 3.0], [3.0, 3.0], [3.0, 2.0]]]}}\n",
      "{'type': 'Feature', 'properties': {'count': 2.0}, 'geometry': {'type': 'Polygon', 'coordinates': [[[0.0, 3.0], [1.0, 3.0], [1.0, 4.0], [0.0, 4.0], [0.0, 3.0]]]}}\n",
      "{'type': 'Feature', 'properties': {'count': 1.0}, 'geometry': {'type': 'Polygon', 'coordinates': [[[1.0, 3.0], [2.0, 3.0], [2.0, 4.0], [1.0, 4.0], [1.0, 3.0]]]}}\n",
      "{'type': 'Feature', 'properties': {'count': 0.0}, 'geometry': {'type': 'Polygon', 'coordinates': [[[2.0, 3.0], [3.0, 3.0], [3.0, 4.0], [2.0, 4.0], [2.0, 3.0]]]}}\n",
      "{'type': 'Feature', 'properties': {'count': 2.0}, 'geometry': {'type': 'Polygon', 'coordinates': [[[3.0, 3.0], [4.0, 3.0], [4.0, 4.0], [3.0, 4.0], [3.0, 3.0]]]}}\n"
     ]
    },
    {
     "data": {
      "text/plain": [
       "{'type': 'FeatureCollection',\n",
       " 'features': [{'type': 'Feature',\n",
       "   'properties': {'count': 1.0},\n",
       "   'geometry': {'type': 'Polygon',\n",
       "    'coordinates': [[[0.0, 0.0],\n",
       "      [1.0, 0.0],\n",
       "      [1.0, 1.0],\n",
       "      [0.0, 1.0],\n",
       "      [0.0, 0.0]]]}},\n",
       "  {'type': 'Feature',\n",
       "   'properties': {'count': 1.0},\n",
       "   'geometry': {'type': 'Polygon',\n",
       "    'coordinates': [[[1.0, 0.0],\n",
       "      [2.0, 0.0],\n",
       "      [2.0, 1.0],\n",
       "      [1.0, 1.0],\n",
       "      [1.0, 0.0]]]}},\n",
       "  {'type': 'Feature',\n",
       "   'properties': {'count': 0.0},\n",
       "   'geometry': {'type': 'Polygon',\n",
       "    'coordinates': [[[2.0, 0.0],\n",
       "      [3.0, 0.0],\n",
       "      [3.0, 1.0],\n",
       "      [2.0, 1.0],\n",
       "      [2.0, 0.0]]]}},\n",
       "  {'type': 'Feature',\n",
       "   'properties': {'count': 0.0},\n",
       "   'geometry': {'type': 'Polygon',\n",
       "    'coordinates': [[[3.0, 0.0],\n",
       "      [4.0, 0.0],\n",
       "      [4.0, 1.0],\n",
       "      [3.0, 1.0],\n",
       "      [3.0, 0.0]]]}},\n",
       "  {'type': 'Feature',\n",
       "   'properties': {'count': 0.0},\n",
       "   'geometry': {'type': 'Polygon',\n",
       "    'coordinates': [[[0.0, 1.0],\n",
       "      [1.0, 1.0],\n",
       "      [1.0, 2.0],\n",
       "      [0.0, 2.0],\n",
       "      [0.0, 1.0]]]}},\n",
       "  {'type': 'Feature',\n",
       "   'properties': {'count': 1.0},\n",
       "   'geometry': {'type': 'Polygon',\n",
       "    'coordinates': [[[1.0, 1.0],\n",
       "      [2.0, 1.0],\n",
       "      [2.0, 2.0],\n",
       "      [1.0, 2.0],\n",
       "      [1.0, 1.0]]]}},\n",
       "  {'type': 'Feature',\n",
       "   'properties': {'count': 0.0},\n",
       "   'geometry': {'type': 'Polygon',\n",
       "    'coordinates': [[[2.0, 1.0],\n",
       "      [3.0, 1.0],\n",
       "      [3.0, 2.0],\n",
       "      [2.0, 2.0],\n",
       "      [2.0, 1.0]]]}},\n",
       "  {'type': 'Feature',\n",
       "   'properties': {'count': 0.0},\n",
       "   'geometry': {'type': 'Polygon',\n",
       "    'coordinates': [[[3.0, 1.0],\n",
       "      [4.0, 1.0],\n",
       "      [4.0, 2.0],\n",
       "      [3.0, 2.0],\n",
       "      [3.0, 1.0]]]}},\n",
       "  {'type': 'Feature',\n",
       "   'properties': {'count': 0.0},\n",
       "   'geometry': {'type': 'Polygon',\n",
       "    'coordinates': [[[0.0, 2.0],\n",
       "      [1.0, 2.0],\n",
       "      [1.0, 3.0],\n",
       "      [0.0, 3.0],\n",
       "      [0.0, 2.0]]]}},\n",
       "  {'type': 'Feature',\n",
       "   'properties': {'count': 0.0},\n",
       "   'geometry': {'type': 'Polygon',\n",
       "    'coordinates': [[[1.0, 2.0],\n",
       "      [2.0, 2.0],\n",
       "      [2.0, 3.0],\n",
       "      [1.0, 3.0],\n",
       "      [1.0, 2.0]]]}},\n",
       "  {'type': 'Feature',\n",
       "   'properties': {'count': 1.0},\n",
       "   'geometry': {'type': 'Polygon',\n",
       "    'coordinates': [[[2.0, 2.0],\n",
       "      [3.0, 2.0],\n",
       "      [3.0, 3.0],\n",
       "      [2.0, 3.0],\n",
       "      [2.0, 2.0]]]}},\n",
       "  {'type': 'Feature',\n",
       "   'properties': {'count': 1.0},\n",
       "   'geometry': {'type': 'Polygon',\n",
       "    'coordinates': [[[3.0, 2.0],\n",
       "      [4.0, 2.0],\n",
       "      [4.0, 3.0],\n",
       "      [3.0, 3.0],\n",
       "      [3.0, 2.0]]]}},\n",
       "  {'type': 'Feature',\n",
       "   'properties': {'count': 2.0},\n",
       "   'geometry': {'type': 'Polygon',\n",
       "    'coordinates': [[[0.0, 3.0],\n",
       "      [1.0, 3.0],\n",
       "      [1.0, 4.0],\n",
       "      [0.0, 4.0],\n",
       "      [0.0, 3.0]]]}},\n",
       "  {'type': 'Feature',\n",
       "   'properties': {'count': 1.0},\n",
       "   'geometry': {'type': 'Polygon',\n",
       "    'coordinates': [[[1.0, 3.0],\n",
       "      [2.0, 3.0],\n",
       "      [2.0, 4.0],\n",
       "      [1.0, 4.0],\n",
       "      [1.0, 3.0]]]}},\n",
       "  {'type': 'Feature',\n",
       "   'properties': {'count': 0.0},\n",
       "   'geometry': {'type': 'Polygon',\n",
       "    'coordinates': [[[2.0, 3.0],\n",
       "      [3.0, 3.0],\n",
       "      [3.0, 4.0],\n",
       "      [2.0, 4.0],\n",
       "      [2.0, 3.0]]]}},\n",
       "  {'type': 'Feature',\n",
       "   'properties': {'count': 2.0},\n",
       "   'geometry': {'type': 'Polygon',\n",
       "    'coordinates': [[[3.0, 3.0],\n",
       "      [4.0, 3.0],\n",
       "      [4.0, 4.0],\n",
       "      [3.0, 4.0],\n",
       "      [3.0, 3.0]]]}}]}"
      ]
     },
     "execution_count": 51,
     "metadata": {},
     "output_type": "execute_result"
    }
   ],
   "source": [
    "make_geoJson_bincounts_from_coords(x, y, [4,4])"
   ]
  },
  {
   "cell_type": "code",
   "execution_count": 19,
   "metadata": {},
   "outputs": [
    {
     "data": {
      "text/plain": [
       "10"
      ]
     },
     "execution_count": 19,
     "metadata": {},
     "output_type": "execute_result"
    }
   ],
   "source": [
    "len(H)"
   ]
  },
  {
   "cell_type": "code",
   "execution_count": 20,
   "metadata": {},
   "outputs": [
    {
     "data": {
      "text/plain": [
       "10"
      ]
     },
     "execution_count": 20,
     "metadata": {},
     "output_type": "execute_result"
    }
   ],
   "source": [
    "len(H[0])"
   ]
  },
  {
   "cell_type": "code",
   "execution_count": 27,
   "metadata": {},
   "outputs": [
    {
     "name": "stdout",
     "output_type": "stream",
     "text": [
      "[1. 0. 1. 0. 0. 0. 0. 0. 0. 0.]\n",
      "[0. 0. 0. 0. 0. 0. 0. 0. 0. 0.]\n",
      "[0. 0. 1. 0. 0. 0. 0. 0. 0. 0.]\n",
      "[0. 0. 0. 0. 0. 0. 0. 0. 0. 0.]\n",
      "[0. 0. 0. 0. 0. 0. 0. 0. 0. 0.]\n",
      "[0. 0. 0. 0. 0. 1. 0. 0. 0. 1.]\n",
      "[0. 0. 0. 0. 0. 0. 0. 0. 0. 0.]\n",
      "[2. 0. 0. 0. 0. 0. 0. 0. 0. 2.]\n",
      "[0. 0. 0. 0. 0. 0. 0. 0. 0. 0.]\n",
      "[0. 0. 1. 0. 0. 0. 0. 0. 0. 0.]\n"
     ]
    }
   ],
   "source": [
    "for yrow in H:\n",
    "    print(yrow)"
   ]
  },
  {
   "cell_type": "code",
   "execution_count": 28,
   "metadata": {},
   "outputs": [
    {
     "data": {
      "text/plain": [
       "array([1., 0., 1., 0., 0., 0., 0., 0., 0., 0.])"
      ]
     },
     "execution_count": 28,
     "metadata": {},
     "output_type": "execute_result"
    }
   ],
   "source": [
    "H[0]"
   ]
  },
  {
   "cell_type": "code",
   "execution_count": 29,
   "metadata": {},
   "outputs": [
    {
     "data": {
      "text/plain": [
       "1.0"
      ]
     },
     "execution_count": 29,
     "metadata": {},
     "output_type": "execute_result"
    }
   ],
   "source": [
    "H[0,2]"
   ]
  },
  {
   "cell_type": "code",
   "execution_count": 31,
   "metadata": {},
   "outputs": [
    {
     "data": {
      "text/plain": [
       "0.0"
      ]
     },
     "execution_count": 31,
     "metadata": {},
     "output_type": "execute_result"
    }
   ],
   "source": [
    "H[0,1]"
   ]
  },
  {
   "cell_type": "code",
   "execution_count": 47,
   "metadata": {},
   "outputs": [],
   "source": [
    "np.histogram2d?"
   ]
  },
  {
   "cell_type": "code",
   "execution_count": null,
   "metadata": {},
   "outputs": [],
   "source": []
  }
 ],
 "metadata": {
  "kernelspec": {
   "display_name": "Python [conda env:PythonData]",
   "language": "python",
   "name": "conda-env-PythonData-py"
  },
  "language_info": {
   "codemirror_mode": {
    "name": "ipython",
    "version": 3
   },
   "file_extension": ".py",
   "mimetype": "text/x-python",
   "name": "python",
   "nbconvert_exporter": "python",
   "pygments_lexer": "ipython3",
   "version": "3.6.7"
  }
 },
 "nbformat": 4,
 "nbformat_minor": 2
}
