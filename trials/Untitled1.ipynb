{
 "cells": [
  {
   "cell_type": "code",
   "execution_count": 1,
   "metadata": {},
   "outputs": [],
   "source": [
    "import numpy as np"
   ]
  },
  {
   "cell_type": "code",
   "execution_count": 2,
   "metadata": {},
   "outputs": [],
   "source": [
    "import pandas as pd\n",
    "import matplotlib.pyplot as plt\n",
    "from statsmodels.graphics.mosaicplot import mosaic"
   ]
  },
  {
   "cell_type": "code",
   "execution_count": 3,
   "metadata": {},
   "outputs": [
    {
     "data": {
      "text/plain": [
       "'C:\\\\Users\\\\dadra\\\\Desktop\\\\testing\\\\trials'"
      ]
     },
     "execution_count": 3,
     "metadata": {},
     "output_type": "execute_result"
    }
   ],
   "source": [
    "%pwd"
   ]
  },
  {
   "cell_type": "code",
   "execution_count": 4,
   "metadata": {},
   "outputs": [],
   "source": [
    "tows = pd.read_csv(\"../static/data/finalTOWING.csv\")"
   ]
  },
  {
   "cell_type": "code",
   "execution_count": 5,
   "metadata": {},
   "outputs": [
    {
     "data": {
      "text/plain": [
       "8496"
      ]
     },
     "execution_count": 5,
     "metadata": {},
     "output_type": "execute_result"
    }
   ],
   "source": [
    "# one location in the Pembina emergency is outside the Minneapolis area \n",
    "tows.longitude.idxmin()"
   ]
  },
  {
   "cell_type": "code",
   "execution_count": 6,
   "metadata": {},
   "outputs": [],
   "source": [
    "tows.drop(8496, inplace=True)"
   ]
  },
  {
   "cell_type": "code",
   "execution_count": 7,
   "metadata": {},
   "outputs": [],
   "source": [
    "# there is still some data cleaning needed:  community names with inconsistent names\n",
    "community = tows.community\n",
    "community.replace({'Calhoun Isle' : 'Calhoun-Isles', 'Calhoun Isles': 'Calhoun-Isles', 'Near-North': 'Near North'}, inplace=True)\n",
    "tows.community = community"
   ]
  },
  {
   "cell_type": "code",
   "execution_count": 8,
   "metadata": {},
   "outputs": [],
   "source": [
    "xtabs = pd.crosstab(tows.community, tows.emergency)"
   ]
  },
  {
   "cell_type": "code",
   "execution_count": 9,
   "metadata": {},
   "outputs": [
    {
     "data": {
      "text/html": [
       "<div>\n",
       "<style scoped>\n",
       "    .dataframe tbody tr th:only-of-type {\n",
       "        vertical-align: middle;\n",
       "    }\n",
       "\n",
       "    .dataframe tbody tr th {\n",
       "        vertical-align: top;\n",
       "    }\n",
       "\n",
       "    .dataframe thead th {\n",
       "        text-align: right;\n",
       "    }\n",
       "</style>\n",
       "<table border=\"1\" class=\"dataframe\">\n",
       "  <thead>\n",
       "    <tr style=\"text-align: right;\">\n",
       "      <th>emergency</th>\n",
       "      <th>Armatage</th>\n",
       "      <th>Dana</th>\n",
       "      <th>Diamond Lake</th>\n",
       "      <th>Ferry</th>\n",
       "      <th>Howe</th>\n",
       "      <th>Jane</th>\n",
       "      <th>Olive</th>\n",
       "      <th>Pembina</th>\n",
       "      <th>Quincy</th>\n",
       "      <th>Upton</th>\n",
       "      <th>Westminster</th>\n",
       "      <th>Xerxes</th>\n",
       "      <th>Yale</th>\n",
       "      <th>Yardville</th>\n",
       "    </tr>\n",
       "    <tr>\n",
       "      <th>community</th>\n",
       "      <th></th>\n",
       "      <th></th>\n",
       "      <th></th>\n",
       "      <th></th>\n",
       "      <th></th>\n",
       "      <th></th>\n",
       "      <th></th>\n",
       "      <th></th>\n",
       "      <th></th>\n",
       "      <th></th>\n",
       "      <th></th>\n",
       "      <th></th>\n",
       "      <th></th>\n",
       "      <th></th>\n",
       "    </tr>\n",
       "  </thead>\n",
       "  <tbody>\n",
       "    <tr>\n",
       "      <th>Calhoun-Isles</th>\n",
       "      <td>102</td>\n",
       "      <td>125</td>\n",
       "      <td>69</td>\n",
       "      <td>196</td>\n",
       "      <td>60</td>\n",
       "      <td>111</td>\n",
       "      <td>124</td>\n",
       "      <td>84</td>\n",
       "      <td>48</td>\n",
       "      <td>51</td>\n",
       "      <td>88</td>\n",
       "      <td>141</td>\n",
       "      <td>80</td>\n",
       "      <td>50</td>\n",
       "    </tr>\n",
       "    <tr>\n",
       "      <th>Camden</th>\n",
       "      <td>69</td>\n",
       "      <td>74</td>\n",
       "      <td>53</td>\n",
       "      <td>43</td>\n",
       "      <td>49</td>\n",
       "      <td>80</td>\n",
       "      <td>39</td>\n",
       "      <td>37</td>\n",
       "      <td>52</td>\n",
       "      <td>75</td>\n",
       "      <td>75</td>\n",
       "      <td>47</td>\n",
       "      <td>63</td>\n",
       "      <td>36</td>\n",
       "    </tr>\n",
       "    <tr>\n",
       "      <th>Central</th>\n",
       "      <td>108</td>\n",
       "      <td>178</td>\n",
       "      <td>136</td>\n",
       "      <td>170</td>\n",
       "      <td>93</td>\n",
       "      <td>146</td>\n",
       "      <td>149</td>\n",
       "      <td>104</td>\n",
       "      <td>82</td>\n",
       "      <td>128</td>\n",
       "      <td>86</td>\n",
       "      <td>110</td>\n",
       "      <td>67</td>\n",
       "      <td>89</td>\n",
       "    </tr>\n",
       "    <tr>\n",
       "      <th>Longfellow</th>\n",
       "      <td>34</td>\n",
       "      <td>37</td>\n",
       "      <td>4</td>\n",
       "      <td>23</td>\n",
       "      <td>54</td>\n",
       "      <td>34</td>\n",
       "      <td>21</td>\n",
       "      <td>39</td>\n",
       "      <td>23</td>\n",
       "      <td>33</td>\n",
       "      <td>48</td>\n",
       "      <td>11</td>\n",
       "      <td>55</td>\n",
       "      <td>35</td>\n",
       "    </tr>\n",
       "    <tr>\n",
       "      <th>Near North</th>\n",
       "      <td>150</td>\n",
       "      <td>291</td>\n",
       "      <td>184</td>\n",
       "      <td>215</td>\n",
       "      <td>151</td>\n",
       "      <td>180</td>\n",
       "      <td>190</td>\n",
       "      <td>169</td>\n",
       "      <td>99</td>\n",
       "      <td>105</td>\n",
       "      <td>152</td>\n",
       "      <td>167</td>\n",
       "      <td>132</td>\n",
       "      <td>87</td>\n",
       "    </tr>\n",
       "    <tr>\n",
       "      <th>Nokomis</th>\n",
       "      <td>22</td>\n",
       "      <td>25</td>\n",
       "      <td>35</td>\n",
       "      <td>23</td>\n",
       "      <td>11</td>\n",
       "      <td>13</td>\n",
       "      <td>21</td>\n",
       "      <td>35</td>\n",
       "      <td>14</td>\n",
       "      <td>21</td>\n",
       "      <td>17</td>\n",
       "      <td>37</td>\n",
       "      <td>22</td>\n",
       "      <td>19</td>\n",
       "    </tr>\n",
       "    <tr>\n",
       "      <th>Northeast</th>\n",
       "      <td>123</td>\n",
       "      <td>158</td>\n",
       "      <td>125</td>\n",
       "      <td>165</td>\n",
       "      <td>73</td>\n",
       "      <td>172</td>\n",
       "      <td>140</td>\n",
       "      <td>71</td>\n",
       "      <td>69</td>\n",
       "      <td>88</td>\n",
       "      <td>128</td>\n",
       "      <td>129</td>\n",
       "      <td>114</td>\n",
       "      <td>86</td>\n",
       "    </tr>\n",
       "    <tr>\n",
       "      <th>Phillips</th>\n",
       "      <td>0</td>\n",
       "      <td>23</td>\n",
       "      <td>35</td>\n",
       "      <td>30</td>\n",
       "      <td>1</td>\n",
       "      <td>17</td>\n",
       "      <td>6</td>\n",
       "      <td>2</td>\n",
       "      <td>4</td>\n",
       "      <td>16</td>\n",
       "      <td>14</td>\n",
       "      <td>8</td>\n",
       "      <td>2</td>\n",
       "      <td>19</td>\n",
       "    </tr>\n",
       "    <tr>\n",
       "      <th>Powderhorn</th>\n",
       "      <td>181</td>\n",
       "      <td>204</td>\n",
       "      <td>144</td>\n",
       "      <td>166</td>\n",
       "      <td>141</td>\n",
       "      <td>281</td>\n",
       "      <td>225</td>\n",
       "      <td>181</td>\n",
       "      <td>140</td>\n",
       "      <td>113</td>\n",
       "      <td>175</td>\n",
       "      <td>204</td>\n",
       "      <td>165</td>\n",
       "      <td>115</td>\n",
       "    </tr>\n",
       "    <tr>\n",
       "      <th>Southwest</th>\n",
       "      <td>20</td>\n",
       "      <td>15</td>\n",
       "      <td>3</td>\n",
       "      <td>6</td>\n",
       "      <td>18</td>\n",
       "      <td>9</td>\n",
       "      <td>20</td>\n",
       "      <td>10</td>\n",
       "      <td>2</td>\n",
       "      <td>14</td>\n",
       "      <td>19</td>\n",
       "      <td>14</td>\n",
       "      <td>9</td>\n",
       "      <td>16</td>\n",
       "    </tr>\n",
       "    <tr>\n",
       "      <th>University</th>\n",
       "      <td>139</td>\n",
       "      <td>224</td>\n",
       "      <td>194</td>\n",
       "      <td>291</td>\n",
       "      <td>193</td>\n",
       "      <td>387</td>\n",
       "      <td>226</td>\n",
       "      <td>229</td>\n",
       "      <td>84</td>\n",
       "      <td>161</td>\n",
       "      <td>178</td>\n",
       "      <td>347</td>\n",
       "      <td>185</td>\n",
       "      <td>176</td>\n",
       "    </tr>\n",
       "  </tbody>\n",
       "</table>\n",
       "</div>"
      ],
      "text/plain": [
       "emergency      Armatage  Dana  Diamond Lake  Ferry  Howe  Jane  Olive  \\\n",
       "community                                                               \n",
       "Calhoun-Isles       102   125            69    196    60   111    124   \n",
       "Camden               69    74            53     43    49    80     39   \n",
       "Central             108   178           136    170    93   146    149   \n",
       "Longfellow           34    37             4     23    54    34     21   \n",
       "Near North          150   291           184    215   151   180    190   \n",
       "Nokomis              22    25            35     23    11    13     21   \n",
       "Northeast           123   158           125    165    73   172    140   \n",
       "Phillips              0    23            35     30     1    17      6   \n",
       "Powderhorn          181   204           144    166   141   281    225   \n",
       "Southwest            20    15             3      6    18     9     20   \n",
       "University          139   224           194    291   193   387    226   \n",
       "\n",
       "emergency      Pembina  Quincy  Upton  Westminster  Xerxes  Yale  Yardville  \n",
       "community                                                                    \n",
       "Calhoun-Isles       84      48     51           88     141    80         50  \n",
       "Camden              37      52     75           75      47    63         36  \n",
       "Central            104      82    128           86     110    67         89  \n",
       "Longfellow          39      23     33           48      11    55         35  \n",
       "Near North         169      99    105          152     167   132         87  \n",
       "Nokomis             35      14     21           17      37    22         19  \n",
       "Northeast           71      69     88          128     129   114         86  \n",
       "Phillips             2       4     16           14       8     2         19  \n",
       "Powderhorn         181     140    113          175     204   165        115  \n",
       "Southwest           10       2     14           19      14     9         16  \n",
       "University         229      84    161          178     347   185        176  "
      ]
     },
     "execution_count": 9,
     "metadata": {},
     "output_type": "execute_result"
    }
   ],
   "source": [
    "xtabs"
   ]
  },
  {
   "cell_type": "code",
   "execution_count": 10,
   "metadata": {},
   "outputs": [
    {
     "data": {
      "text/plain": [
       "<Figure size 1440x864 with 0 Axes>"
      ]
     },
     "metadata": {},
     "output_type": "display_data"
    },
    {
     "data": {
      "image/png": "[encoded data removed]",
      "text/plain": [
       "<Figure size 432x288 with 3 Axes>"
      ]
     },
     "metadata": {
      "needs_background": "light"
     },
     "output_type": "display_data"
    }
   ],
   "source": [
    "plt.figure(figsize=(20,12))\n",
    "im1 = mosaic(tows, ['emergency', 'community'])\n"
   ]
  },
  {
   "cell_type": "code",
   "execution_count": 16,
   "metadata": {},
   "outputs": [
    {
     "data": {
      "text/plain": [
       "<matplotlib.axes._subplots.AxesSubplot at 0x17ab29ca278>"
      ]
     },
     "execution_count": 16,
     "metadata": {},
     "output_type": "execute_result"
    },
    {
     "data": {
      "image/png": "[encoded data removed]",
      "text/plain": [
       "<Figure size 432x288 with 1 Axes>"
      ]
     },
     "metadata": {
      "needs_background": "light"
     },
     "output_type": "display_data"
    }
   ],
   "source": [
    "ytabs = pd.crosstab(tows.emergency, tows.community)\n",
    "ytabs.plot(kind='barh', stacked=True)"
   ]
  },
  {
   "cell_type": "code",
   "execution_count": 17,
   "metadata": {},
   "outputs": [
    {
     "data": {
      "text/plain": [
       "<matplotlib.axes._subplots.AxesSubplot at 0x17ab44dc1d0>"
      ]
     },
     "execution_count": 17,
     "metadata": {},
     "output_type": "execute_result"
    },
    {
     "data": {
      "image/png": "[encoded data removed]",
      "text/plain": [
       "<Figure size 432x288 with 1 Axes>"
      ]
     },
     "metadata": {
      "needs_background": "light"
     },
     "output_type": "display_data"
    }
   ],
   "source": [
    "dtabs = pd.crosstab(tows.emergency, tows.day)\n",
    "dtabs.plot(kind='barh', stacked=True)"
   ]
  },
  {
   "cell_type": "code",
   "execution_count": 19,
   "metadata": {},
   "outputs": [],
   "source": [
    "import statsmodels.api as sm\n",
    "sample_crosstable = sm.stats.Table(pd.crosstab(tows.day, tows.emergency).values)"
   ]
  },
  {
   "cell_type": "code",
   "execution_count": 23,
   "metadata": {},
   "outputs": [
    {
     "data": {
      "text/html": [
       "<div>\n",
       "<style scoped>\n",
       "    .dataframe tbody tr th:only-of-type {\n",
       "        vertical-align: middle;\n",
       "    }\n",
       "\n",
       "    .dataframe tbody tr th {\n",
       "        vertical-align: top;\n",
       "    }\n",
       "\n",
       "    .dataframe thead th {\n",
       "        text-align: right;\n",
       "    }\n",
       "</style>\n",
       "<table border=\"1\" class=\"dataframe\">\n",
       "  <thead>\n",
       "    <tr style=\"text-align: right;\">\n",
       "      <th>emergency</th>\n",
       "      <th>Armatage</th>\n",
       "      <th>Dana</th>\n",
       "      <th>Diamond Lake</th>\n",
       "      <th>Ferry</th>\n",
       "      <th>Grant</th>\n",
       "      <th>Howe</th>\n",
       "      <th>Jane</th>\n",
       "      <th>Olive</th>\n",
       "      <th>Pembina</th>\n",
       "      <th>Polk</th>\n",
       "      <th>Quincy</th>\n",
       "      <th>Upton</th>\n",
       "      <th>Westminster</th>\n",
       "      <th>Xerxes</th>\n",
       "      <th>Yale</th>\n",
       "      <th>Yardville</th>\n",
       "    </tr>\n",
       "    <tr>\n",
       "      <th>day</th>\n",
       "      <th></th>\n",
       "      <th></th>\n",
       "      <th></th>\n",
       "      <th></th>\n",
       "      <th></th>\n",
       "      <th></th>\n",
       "      <th></th>\n",
       "      <th></th>\n",
       "      <th></th>\n",
       "      <th></th>\n",
       "      <th></th>\n",
       "      <th></th>\n",
       "      <th></th>\n",
       "      <th></th>\n",
       "      <th></th>\n",
       "      <th></th>\n",
       "    </tr>\n",
       "  </thead>\n",
       "  <tbody>\n",
       "    <tr>\n",
       "      <th>1</th>\n",
       "      <td>253</td>\n",
       "      <td>113</td>\n",
       "      <td>326</td>\n",
       "      <td>125</td>\n",
       "      <td>476</td>\n",
       "      <td>245</td>\n",
       "      <td>90</td>\n",
       "      <td>331</td>\n",
       "      <td>224</td>\n",
       "      <td>365</td>\n",
       "      <td>296</td>\n",
       "      <td>205</td>\n",
       "      <td>305</td>\n",
       "      <td>342</td>\n",
       "      <td>250</td>\n",
       "      <td>239</td>\n",
       "    </tr>\n",
       "    <tr>\n",
       "      <th>2</th>\n",
       "      <td>362</td>\n",
       "      <td>771</td>\n",
       "      <td>267</td>\n",
       "      <td>769</td>\n",
       "      <td>607</td>\n",
       "      <td>320</td>\n",
       "      <td>804</td>\n",
       "      <td>418</td>\n",
       "      <td>423</td>\n",
       "      <td>554</td>\n",
       "      <td>321</td>\n",
       "      <td>305</td>\n",
       "      <td>393</td>\n",
       "      <td>573</td>\n",
       "      <td>341</td>\n",
       "      <td>411</td>\n",
       "    </tr>\n",
       "    <tr>\n",
       "      <th>3</th>\n",
       "      <td>333</td>\n",
       "      <td>470</td>\n",
       "      <td>389</td>\n",
       "      <td>434</td>\n",
       "      <td>473</td>\n",
       "      <td>279</td>\n",
       "      <td>536</td>\n",
       "      <td>412</td>\n",
       "      <td>314</td>\n",
       "      <td>461</td>\n",
       "      <td>0</td>\n",
       "      <td>295</td>\n",
       "      <td>282</td>\n",
       "      <td>300</td>\n",
       "      <td>303</td>\n",
       "      <td>78</td>\n",
       "    </tr>\n",
       "  </tbody>\n",
       "</table>\n",
       "</div>"
      ],
      "text/plain": [
       "emergency  Armatage  Dana  Diamond Lake  Ferry  Grant  Howe  Jane  Olive  \\\n",
       "day                                                                        \n",
       "1               253   113           326    125    476   245    90    331   \n",
       "2               362   771           267    769    607   320   804    418   \n",
       "3               333   470           389    434    473   279   536    412   \n",
       "\n",
       "emergency  Pembina  Polk  Quincy  Upton  Westminster  Xerxes  Yale  Yardville  \n",
       "day                                                                            \n",
       "1              224   365     296    205          305     342   250        239  \n",
       "2              423   554     321    305          393     573   341        411  \n",
       "3              314   461       0    295          282     300   303         78  "
      ]
     },
     "execution_count": 23,
     "metadata": {},
     "output_type": "execute_result"
    }
   ],
   "source": [
    "crosstable = pd.crosstab(tows.day, tows.emergency)\n",
    "crosstable"
   ]
  },
  {
   "cell_type": "code",
   "execution_count": 20,
   "metadata": {},
   "outputs": [],
   "source": [
    "# Produce the SVD of the matrix of residuals\n",
    "u,s,vh = np.linalg.svd(sample_crosstable.resid_pearson, full_matrices=False)"
   ]
  },
  {
   "cell_type": "code",
   "execution_count": 21,
   "metadata": {},
   "outputs": [],
   "source": [
    "row_scores = np.dot(u, np.diag(np.sqrt(s)))\n",
    "col_scores = np.dot(vh.T, np.diag(np.sqrt(s)))"
   ]
  },
  {
   "cell_type": "code",
   "execution_count": 24,
   "metadata": {},
   "outputs": [
    {
     "data": {
      "text/html": [
       "<div>\n",
       "<style scoped>\n",
       "    .dataframe tbody tr th:only-of-type {\n",
       "        vertical-align: middle;\n",
       "    }\n",
       "\n",
       "    .dataframe tbody tr th {\n",
       "        vertical-align: top;\n",
       "    }\n",
       "\n",
       "    .dataframe thead th {\n",
       "        text-align: right;\n",
       "    }\n",
       "</style>\n",
       "<table border=\"1\" class=\"dataframe\">\n",
       "  <thead>\n",
       "    <tr style=\"text-align: right;\">\n",
       "      <th></th>\n",
       "      <th>R1</th>\n",
       "      <th>R2</th>\n",
       "      <th>day</th>\n",
       "    </tr>\n",
       "  </thead>\n",
       "  <tbody>\n",
       "    <tr>\n",
       "      <th>0</th>\n",
       "      <td>-4.835600</td>\n",
       "      <td>0.194417</td>\n",
       "      <td>1</td>\n",
       "    </tr>\n",
       "    <tr>\n",
       "      <th>1</th>\n",
       "      <td>1.931601</td>\n",
       "      <td>-3.057911</td>\n",
       "      <td>2</td>\n",
       "    </tr>\n",
       "    <tr>\n",
       "      <th>2</th>\n",
       "      <td>1.968453</td>\n",
       "      <td>3.478256</td>\n",
       "      <td>3</td>\n",
       "    </tr>\n",
       "  </tbody>\n",
       "</table>\n",
       "</div>"
      ],
      "text/plain": [
       "         R1        R2  day\n",
       "0 -4.835600  0.194417    1\n",
       "1  1.931601 -3.057911    2\n",
       "2  1.968453  3.478256    3"
      ]
     },
     "execution_count": 24,
     "metadata": {},
     "output_type": "execute_result"
    }
   ],
   "source": [
    "rows_df = pd.DataFrame(data=[l[0:2] for l in row_scores], columns=['R1', 'R2'])\n",
    "rows_df['day'] = crosstable.index\n",
    "rows_df"
   ]
  },
  {
   "cell_type": "code",
   "execution_count": 25,
   "metadata": {},
   "outputs": [
    {
     "data": {
      "text/html": [
       "<div>\n",
       "<style scoped>\n",
       "    .dataframe tbody tr th:only-of-type {\n",
       "        vertical-align: middle;\n",
       "    }\n",
       "\n",
       "    .dataframe tbody tr th {\n",
       "        vertical-align: top;\n",
       "    }\n",
       "\n",
       "    .dataframe thead th {\n",
       "        text-align: right;\n",
       "    }\n",
       "</style>\n",
       "<table border=\"1\" class=\"dataframe\">\n",
       "  <thead>\n",
       "    <tr style=\"text-align: right;\">\n",
       "      <th></th>\n",
       "      <th>C1</th>\n",
       "      <th>C2</th>\n",
       "      <th>emergency</th>\n",
       "    </tr>\n",
       "  </thead>\n",
       "  <tbody>\n",
       "    <tr>\n",
       "      <th>0</th>\n",
       "      <td>-0.269594</td>\n",
       "      <td>0.776438</td>\n",
       "      <td>Armatage</td>\n",
       "    </tr>\n",
       "    <tr>\n",
       "      <th>1</th>\n",
       "      <td>2.438319</td>\n",
       "      <td>-0.712847</td>\n",
       "      <td>Dana</td>\n",
       "    </tr>\n",
       "    <tr>\n",
       "      <th>2</th>\n",
       "      <td>-1.080852</td>\n",
       "      <td>1.969832</td>\n",
       "      <td>Diamond Lake</td>\n",
       "    </tr>\n",
       "    <tr>\n",
       "      <th>3</th>\n",
       "      <td>2.240588</td>\n",
       "      <td>-0.988218</td>\n",
       "      <td>Ferry</td>\n",
       "    </tr>\n",
       "    <tr>\n",
       "      <th>4</th>\n",
       "      <td>-1.012740</td>\n",
       "      <td>0.412744</td>\n",
       "      <td>Grant</td>\n",
       "    </tr>\n",
       "    <tr>\n",
       "      <th>5</th>\n",
       "      <td>-0.545003</td>\n",
       "      <td>0.587834</td>\n",
       "      <td>Howe</td>\n",
       "    </tr>\n",
       "    <tr>\n",
       "      <th>6</th>\n",
       "      <td>2.844829</td>\n",
       "      <td>-0.385388</td>\n",
       "      <td>Jane</td>\n",
       "    </tr>\n",
       "    <tr>\n",
       "      <th>7</th>\n",
       "      <td>-0.549699</td>\n",
       "      <td>1.064604</td>\n",
       "      <td>Olive</td>\n",
       "    </tr>\n",
       "    <tr>\n",
       "      <th>8</th>\n",
       "      <td>0.141902</td>\n",
       "      <td>0.156784</td>\n",
       "      <td>Pembina</td>\n",
       "    </tr>\n",
       "    <tr>\n",
       "      <th>9</th>\n",
       "      <td>-0.301344</td>\n",
       "      <td>0.594339</td>\n",
       "      <td>Polk</td>\n",
       "    </tr>\n",
       "    <tr>\n",
       "      <th>10</th>\n",
       "      <td>-2.557661</td>\n",
       "      <td>-2.535395</td>\n",
       "      <td>Quincy</td>\n",
       "    </tr>\n",
       "    <tr>\n",
       "      <th>11</th>\n",
       "      <td>-0.098093</td>\n",
       "      <td>0.852122</td>\n",
       "      <td>Upton</td>\n",
       "    </tr>\n",
       "    <tr>\n",
       "      <th>12</th>\n",
       "      <td>-0.882473</td>\n",
       "      <td>0.111015</td>\n",
       "      <td>Westminster</td>\n",
       "    </tr>\n",
       "    <tr>\n",
       "      <th>13</th>\n",
       "      <td>-0.586764</td>\n",
       "      <td>-0.832982</td>\n",
       "      <td>Xerxes</td>\n",
       "    </tr>\n",
       "    <tr>\n",
       "      <th>14</th>\n",
       "      <td>-0.425552</td>\n",
       "      <td>0.656901</td>\n",
       "      <td>Yale</td>\n",
       "    </tr>\n",
       "    <tr>\n",
       "      <th>15</th>\n",
       "      <td>-1.047914</td>\n",
       "      <td>-2.247528</td>\n",
       "      <td>Yardville</td>\n",
       "    </tr>\n",
       "  </tbody>\n",
       "</table>\n",
       "</div>"
      ],
      "text/plain": [
       "          C1        C2     emergency\n",
       "0  -0.269594  0.776438      Armatage\n",
       "1   2.438319 -0.712847          Dana\n",
       "2  -1.080852  1.969832  Diamond Lake\n",
       "3   2.240588 -0.988218         Ferry\n",
       "4  -1.012740  0.412744         Grant\n",
       "5  -0.545003  0.587834          Howe\n",
       "6   2.844829 -0.385388          Jane\n",
       "7  -0.549699  1.064604         Olive\n",
       "8   0.141902  0.156784       Pembina\n",
       "9  -0.301344  0.594339          Polk\n",
       "10 -2.557661 -2.535395        Quincy\n",
       "11 -0.098093  0.852122         Upton\n",
       "12 -0.882473  0.111015   Westminster\n",
       "13 -0.586764 -0.832982        Xerxes\n",
       "14 -0.425552  0.656901          Yale\n",
       "15 -1.047914 -2.247528     Yardville"
      ]
     },
     "execution_count": 25,
     "metadata": {},
     "output_type": "execute_result"
    }
   ],
   "source": [
    "cols_df = pd.DataFrame(data = [l[0:2] for l in col_scores], columns=['C1', 'C2'])\n",
    "cols_df['emergency'] =  crosstable.columns\n",
    "cols_df"
   ]
  },
  {
   "cell_type": "code",
   "execution_count": 26,
   "metadata": {},
   "outputs": [
    {
     "data": {
      "image/png": "[encoded data removed]",
      "text/plain": [
       "<Figure size 720x576 with 1 Axes>"
      ]
     },
     "metadata": {
      "needs_background": "light"
     },
     "output_type": "display_data"
    }
   ],
   "source": [
    "fig = plt.figure(figsize=(10,8))\n",
    "ax1 = fig.add_subplot(1,1,1)\n",
    "ax1.axvline(x=0)\n",
    "ax1.axhline(y=0)\n",
    "ax1.scatter(rows_df.R1, rows_df.R2, color='red', marker='o')\n",
    "for x, y, txt in zip(rows_df.R1, rows_df.R2, rows_df.day):\n",
    "    ax1.annotate(txt, (x, y))\n",
    "ax1.scatter(cols_df.C1, cols_df.C2, color='blue', marker='+')\n",
    "for x, y, txt in zip(cols_df.C1, cols_df.C2, cols_df.emergency):\n",
    "    ax1.annotate(txt, (x, y))"
   ]
  },
  {
   "cell_type": "code",
   "execution_count": 27,
   "metadata": {},
   "outputs": [
    {
     "data": {
      "text/html": [
       "<div>\n",
       "<style scoped>\n",
       "    .dataframe tbody tr th:only-of-type {\n",
       "        vertical-align: middle;\n",
       "    }\n",
       "\n",
       "    .dataframe tbody tr th {\n",
       "        vertical-align: top;\n",
       "    }\n",
       "\n",
       "    .dataframe thead th {\n",
       "        text-align: right;\n",
       "    }\n",
       "</style>\n",
       "<table border=\"1\" class=\"dataframe\">\n",
       "  <thead>\n",
       "    <tr style=\"text-align: right;\">\n",
       "      <th></th>\n",
       "      <th>emergency</th>\n",
       "      <th>date</th>\n",
       "      <th>address</th>\n",
       "      <th>ward</th>\n",
       "      <th>neighborhood</th>\n",
       "      <th>community</th>\n",
       "      <th>latitude</th>\n",
       "      <th>longitude</th>\n",
       "      <th>other_x</th>\n",
       "      <th>other_y</th>\n",
       "      <th>day</th>\n",
       "      <th>tow_zone</th>\n",
       "    </tr>\n",
       "  </thead>\n",
       "  <tbody>\n",
       "    <tr>\n",
       "      <th>0</th>\n",
       "      <td>Armatage</td>\n",
       "      <td>2/24/19</td>\n",
       "      <td>2101 LYNDALE AVE N ,Minneapolis,MN</td>\n",
       "      <td>5.0</td>\n",
       "      <td>Hawthorne</td>\n",
       "      <td>Near North</td>\n",
       "      <td>45.000250</td>\n",
       "      <td>-93.287993</td>\n",
       "      <td>NaN</td>\n",
       "      <td>NaN</td>\n",
       "      <td>1</td>\n",
       "      <td>1.0</td>\n",
       "    </tr>\n",
       "    <tr>\n",
       "      <th>1</th>\n",
       "      <td>Armatage</td>\n",
       "      <td>2/24/19</td>\n",
       "      <td>2101 LYNDALE AVE N ,Minneapolis,MN</td>\n",
       "      <td>5.0</td>\n",
       "      <td>Hawthorne</td>\n",
       "      <td>Near North</td>\n",
       "      <td>45.000250</td>\n",
       "      <td>-93.287993</td>\n",
       "      <td>NaN</td>\n",
       "      <td>NaN</td>\n",
       "      <td>1</td>\n",
       "      <td>1.0</td>\n",
       "    </tr>\n",
       "    <tr>\n",
       "      <th>2</th>\n",
       "      <td>Armatage</td>\n",
       "      <td>2/24/19</td>\n",
       "      <td>2806 EMERSON AVE S,Minneapolis,MN</td>\n",
       "      <td>10.0</td>\n",
       "      <td>Lowry Hill East</td>\n",
       "      <td>Calhoun-Isles</td>\n",
       "      <td>44.951599</td>\n",
       "      <td>-93.294638</td>\n",
       "      <td>NaN</td>\n",
       "      <td>NaN</td>\n",
       "      <td>1</td>\n",
       "      <td>3.0</td>\n",
       "    </tr>\n",
       "    <tr>\n",
       "      <th>3</th>\n",
       "      <td>Armatage</td>\n",
       "      <td>2/24/19</td>\n",
       "      <td>2901 Lyndale Ave n ,Minneapolis,MN</td>\n",
       "      <td>5.0</td>\n",
       "      <td>Hawthorne</td>\n",
       "      <td>Near North</td>\n",
       "      <td>45.009708</td>\n",
       "      <td>-93.288395</td>\n",
       "      <td>NaN</td>\n",
       "      <td>NaN</td>\n",
       "      <td>1</td>\n",
       "      <td>1.0</td>\n",
       "    </tr>\n",
       "    <tr>\n",
       "      <th>4</th>\n",
       "      <td>Armatage</td>\n",
       "      <td>2/24/19</td>\n",
       "      <td>2800 Emerson Avenue South,Minneapolis,MN</td>\n",
       "      <td>10.0</td>\n",
       "      <td>Lowry Hill East</td>\n",
       "      <td>Calhoun-Isles</td>\n",
       "      <td>44.951578</td>\n",
       "      <td>-93.294725</td>\n",
       "      <td>NaN</td>\n",
       "      <td>NaN</td>\n",
       "      <td>1</td>\n",
       "      <td>3.0</td>\n",
       "    </tr>\n",
       "  </tbody>\n",
       "</table>\n",
       "</div>"
      ],
      "text/plain": [
       "  emergency     date                                   address  ward  \\\n",
       "0  Armatage  2/24/19        2101 LYNDALE AVE N ,Minneapolis,MN   5.0   \n",
       "1  Armatage  2/24/19        2101 LYNDALE AVE N ,Minneapolis,MN   5.0   \n",
       "2  Armatage  2/24/19         2806 EMERSON AVE S,Minneapolis,MN  10.0   \n",
       "3  Armatage  2/24/19        2901 Lyndale Ave n ,Minneapolis,MN   5.0   \n",
       "4  Armatage  2/24/19  2800 Emerson Avenue South,Minneapolis,MN  10.0   \n",
       "\n",
       "      neighborhood      community   latitude  longitude  other_x  other_y  \\\n",
       "0        Hawthorne     Near North  45.000250 -93.287993      NaN      NaN   \n",
       "1        Hawthorne     Near North  45.000250 -93.287993      NaN      NaN   \n",
       "2  Lowry Hill East  Calhoun-Isles  44.951599 -93.294638      NaN      NaN   \n",
       "3        Hawthorne     Near North  45.009708 -93.288395      NaN      NaN   \n",
       "4  Lowry Hill East  Calhoun-Isles  44.951578 -93.294725      NaN      NaN   \n",
       "\n",
       "   day  tow_zone  \n",
       "0    1       1.0  \n",
       "1    1       1.0  \n",
       "2    1       3.0  \n",
       "3    1       1.0  \n",
       "4    1       3.0  "
      ]
     },
     "execution_count": 27,
     "metadata": {},
     "output_type": "execute_result"
    }
   ],
   "source": [
    "tows.head()"
   ]
  },
  {
   "cell_type": "code",
   "execution_count": 28,
   "metadata": {},
   "outputs": [
    {
     "data": {
      "text/plain": [
       "str"
      ]
     },
     "execution_count": 28,
     "metadata": {},
     "output_type": "execute_result"
    }
   ],
   "source": [
    "type(tows.date[0])"
   ]
  },
  {
   "cell_type": "code",
   "execution_count": 29,
   "metadata": {},
   "outputs": [],
   "source": [
    "import datetime"
   ]
  },
  {
   "cell_type": "code",
   "execution_count": 30,
   "metadata": {},
   "outputs": [],
   "source": [
    "import dateutil.parser"
   ]
  },
  {
   "cell_type": "code",
   "execution_count": 31,
   "metadata": {},
   "outputs": [
    {
     "ename": "NameError",
     "evalue": "name 'parser' is not defined",
     "output_type": "error",
     "traceback": [
      "\u001b[1;31m---------------------------------------------------------------------------\u001b[0m",
      "\u001b[1;31mNameError\u001b[0m                                 Traceback (most recent call last)",
      "\u001b[1;32m<ipython-input-31-8773f0f4c04c>\u001b[0m in \u001b[0;36m<module>\u001b[1;34m\u001b[0m\n\u001b[1;32m----> 1\u001b[1;33m \u001b[0mparser\u001b[0m\u001b[1;33m(\u001b[0m\u001b[0mtows\u001b[0m\u001b[1;33m.\u001b[0m\u001b[0mdate\u001b[0m\u001b[1;33m[\u001b[0m\u001b[1;36m0\u001b[0m\u001b[1;33m]\u001b[0m\u001b[1;33m)\u001b[0m\u001b[1;33m\u001b[0m\u001b[1;33m\u001b[0m\u001b[0m\n\u001b[0m",
      "\u001b[1;31mNameError\u001b[0m: name 'parser' is not defined"
     ]
    }
   ],
   "source": [
    "parser(tows.date[0])"
   ]
  },
  {
   "cell_type": "code",
   "execution_count": 32,
   "metadata": {},
   "outputs": [
    {
     "name": "stdout",
     "output_type": "stream",
     "text": [
      "Object `parser.parse` not found.\n"
     ]
    }
   ],
   "source": [
    "parser.parse?"
   ]
  },
  {
   "cell_type": "code",
   "execution_count": 33,
   "metadata": {},
   "outputs": [
    {
     "name": "stdout",
     "output_type": "stream",
     "text": [
      "Object `parser.parser` not found.\n"
     ]
    }
   ],
   "source": [
    "parser.parser?"
   ]
  },
  {
   "cell_type": "code",
   "execution_count": 37,
   "metadata": {},
   "outputs": [
    {
     "data": {
      "text/plain": [
       "6"
      ]
     },
     "execution_count": 37,
     "metadata": {},
     "output_type": "execute_result"
    }
   ],
   "source": [
    "dateutil.parser.parse(tows.date[0]).weekdayday()"
   ]
  },
  {
   "cell_type": "code",
   "execution_count": 39,
   "metadata": {},
   "outputs": [],
   "source": [
    "day_dict = {0: 'Monday', 1: 'Tuesday', 2: 'Wednesday', 3:'Thursday', 4:'Friday', 5:'Saturday', 6:'Sunday'}"
   ]
  },
  {
   "cell_type": "code",
   "execution_count": 42,
   "metadata": {},
   "outputs": [],
   "source": [
    "def convert_to_weekday (date):\n",
    "    return day_dict[dateutil.parser.parse(date).weekday()]"
   ]
  },
  {
   "cell_type": "code",
   "execution_count": 43,
   "metadata": {},
   "outputs": [
    {
     "data": {
      "text/plain": [
       "'Sunday'"
      ]
     },
     "execution_count": 43,
     "metadata": {},
     "output_type": "execute_result"
    }
   ],
   "source": [
    "convert_to_weekday(tows.date[0])"
   ]
  },
  {
   "cell_type": "code",
   "execution_count": 44,
   "metadata": {},
   "outputs": [],
   "source": [
    "weekdays = [convert_to_weekday(date) for date in tows.date]"
   ]
  },
  {
   "cell_type": "code",
   "execution_count": 45,
   "metadata": {},
   "outputs": [],
   "source": [
    "tows['weekday'] = weekdays"
   ]
  },
  {
   "cell_type": "code",
   "execution_count": 46,
   "metadata": {},
   "outputs": [
    {
     "data": {
      "text/html": [
       "<div>\n",
       "<style scoped>\n",
       "    .dataframe tbody tr th:only-of-type {\n",
       "        vertical-align: middle;\n",
       "    }\n",
       "\n",
       "    .dataframe tbody tr th {\n",
       "        vertical-align: top;\n",
       "    }\n",
       "\n",
       "    .dataframe thead th {\n",
       "        text-align: right;\n",
       "    }\n",
       "</style>\n",
       "<table border=\"1\" class=\"dataframe\">\n",
       "  <thead>\n",
       "    <tr style=\"text-align: right;\">\n",
       "      <th>emergency</th>\n",
       "      <th>Armatage</th>\n",
       "      <th>Dana</th>\n",
       "      <th>Diamond Lake</th>\n",
       "      <th>Ferry</th>\n",
       "      <th>Grant</th>\n",
       "      <th>Howe</th>\n",
       "      <th>Jane</th>\n",
       "      <th>Olive</th>\n",
       "      <th>Pembina</th>\n",
       "      <th>Polk</th>\n",
       "      <th>Quincy</th>\n",
       "      <th>Upton</th>\n",
       "      <th>Westminster</th>\n",
       "      <th>Xerxes</th>\n",
       "      <th>Yale</th>\n",
       "      <th>Yardville</th>\n",
       "    </tr>\n",
       "    <tr>\n",
       "      <th>weekday</th>\n",
       "      <th></th>\n",
       "      <th></th>\n",
       "      <th></th>\n",
       "      <th></th>\n",
       "      <th></th>\n",
       "      <th></th>\n",
       "      <th></th>\n",
       "      <th></th>\n",
       "      <th></th>\n",
       "      <th></th>\n",
       "      <th></th>\n",
       "      <th></th>\n",
       "      <th></th>\n",
       "      <th></th>\n",
       "      <th></th>\n",
       "      <th></th>\n",
       "    </tr>\n",
       "  </thead>\n",
       "  <tbody>\n",
       "    <tr>\n",
       "      <th>Friday</th>\n",
       "      <td>0</td>\n",
       "      <td>0</td>\n",
       "      <td>0</td>\n",
       "      <td>0</td>\n",
       "      <td>0</td>\n",
       "      <td>0</td>\n",
       "      <td>536</td>\n",
       "      <td>0</td>\n",
       "      <td>0</td>\n",
       "      <td>0</td>\n",
       "      <td>0</td>\n",
       "      <td>446</td>\n",
       "      <td>0</td>\n",
       "      <td>132</td>\n",
       "      <td>303</td>\n",
       "      <td>0</td>\n",
       "    </tr>\n",
       "    <tr>\n",
       "      <th>Monday</th>\n",
       "      <td>535</td>\n",
       "      <td>771</td>\n",
       "      <td>488</td>\n",
       "      <td>434</td>\n",
       "      <td>0</td>\n",
       "      <td>486</td>\n",
       "      <td>0</td>\n",
       "      <td>104</td>\n",
       "      <td>68</td>\n",
       "      <td>0</td>\n",
       "      <td>101</td>\n",
       "      <td>0</td>\n",
       "      <td>0</td>\n",
       "      <td>0</td>\n",
       "      <td>0</td>\n",
       "      <td>510</td>\n",
       "    </tr>\n",
       "    <tr>\n",
       "      <th>Saturday</th>\n",
       "      <td>0</td>\n",
       "      <td>0</td>\n",
       "      <td>0</td>\n",
       "      <td>125</td>\n",
       "      <td>0</td>\n",
       "      <td>0</td>\n",
       "      <td>0</td>\n",
       "      <td>0</td>\n",
       "      <td>0</td>\n",
       "      <td>0</td>\n",
       "      <td>0</td>\n",
       "      <td>295</td>\n",
       "      <td>0</td>\n",
       "      <td>709</td>\n",
       "      <td>0</td>\n",
       "      <td>0</td>\n",
       "    </tr>\n",
       "    <tr>\n",
       "      <th>Sunday</th>\n",
       "      <td>80</td>\n",
       "      <td>113</td>\n",
       "      <td>105</td>\n",
       "      <td>769</td>\n",
       "      <td>0</td>\n",
       "      <td>79</td>\n",
       "      <td>0</td>\n",
       "      <td>0</td>\n",
       "      <td>0</td>\n",
       "      <td>0</td>\n",
       "      <td>0</td>\n",
       "      <td>0</td>\n",
       "      <td>0</td>\n",
       "      <td>374</td>\n",
       "      <td>0</td>\n",
       "      <td>103</td>\n",
       "    </tr>\n",
       "    <tr>\n",
       "      <th>Thursday</th>\n",
       "      <td>0</td>\n",
       "      <td>0</td>\n",
       "      <td>0</td>\n",
       "      <td>0</td>\n",
       "      <td>473</td>\n",
       "      <td>0</td>\n",
       "      <td>804</td>\n",
       "      <td>0</td>\n",
       "      <td>0</td>\n",
       "      <td>461</td>\n",
       "      <td>0</td>\n",
       "      <td>64</td>\n",
       "      <td>282</td>\n",
       "      <td>0</td>\n",
       "      <td>515</td>\n",
       "      <td>0</td>\n",
       "    </tr>\n",
       "    <tr>\n",
       "      <th>Tuesday</th>\n",
       "      <td>333</td>\n",
       "      <td>470</td>\n",
       "      <td>389</td>\n",
       "      <td>0</td>\n",
       "      <td>171</td>\n",
       "      <td>279</td>\n",
       "      <td>0</td>\n",
       "      <td>645</td>\n",
       "      <td>579</td>\n",
       "      <td>149</td>\n",
       "      <td>516</td>\n",
       "      <td>0</td>\n",
       "      <td>92</td>\n",
       "      <td>0</td>\n",
       "      <td>0</td>\n",
       "      <td>115</td>\n",
       "    </tr>\n",
       "    <tr>\n",
       "      <th>Wednesday</th>\n",
       "      <td>0</td>\n",
       "      <td>0</td>\n",
       "      <td>0</td>\n",
       "      <td>0</td>\n",
       "      <td>912</td>\n",
       "      <td>0</td>\n",
       "      <td>90</td>\n",
       "      <td>412</td>\n",
       "      <td>314</td>\n",
       "      <td>770</td>\n",
       "      <td>0</td>\n",
       "      <td>0</td>\n",
       "      <td>606</td>\n",
       "      <td>0</td>\n",
       "      <td>76</td>\n",
       "      <td>0</td>\n",
       "    </tr>\n",
       "  </tbody>\n",
       "</table>\n",
       "</div>"
      ],
      "text/plain": [
       "emergency  Armatage  Dana  Diamond Lake  Ferry  Grant  Howe  Jane  Olive  \\\n",
       "weekday                                                                    \n",
       "Friday            0     0             0      0      0     0   536      0   \n",
       "Monday          535   771           488    434      0   486     0    104   \n",
       "Saturday          0     0             0    125      0     0     0      0   \n",
       "Sunday           80   113           105    769      0    79     0      0   \n",
       "Thursday          0     0             0      0    473     0   804      0   \n",
       "Tuesday         333   470           389      0    171   279     0    645   \n",
       "Wednesday         0     0             0      0    912     0    90    412   \n",
       "\n",
       "emergency  Pembina  Polk  Quincy  Upton  Westminster  Xerxes  Yale  Yardville  \n",
       "weekday                                                                        \n",
       "Friday           0     0       0    446            0     132   303          0  \n",
       "Monday          68     0     101      0            0       0     0        510  \n",
       "Saturday         0     0       0    295            0     709     0          0  \n",
       "Sunday           0     0       0      0            0     374     0        103  \n",
       "Thursday         0   461       0     64          282       0   515          0  \n",
       "Tuesday        579   149     516      0           92       0     0        115  \n",
       "Wednesday      314   770       0      0          606       0    76          0  "
      ]
     },
     "execution_count": 46,
     "metadata": {},
     "output_type": "execute_result"
    }
   ],
   "source": [
    "pd.crosstab(tows.weekday, tows.emergency)"
   ]
  }
 ],
 "metadata": {
  "kernelspec": {
   "display_name": "Python [conda env:PythonWebMongo]",
   "language": "python",
   "name": "conda-env-PythonWebMongo-py"
  },
  "language_info": {
   "codemirror_mode": {
    "name": "ipython",
    "version": 3
   },
   "file_extension": ".py",
   "mimetype": "text/x-python",
   "name": "python",
   "nbconvert_exporter": "python",
   "pygments_lexer": "ipython3",
   "version": "3.6.7"
  }
 },
 "nbformat": 4,
 "nbformat_minor": 2
}
